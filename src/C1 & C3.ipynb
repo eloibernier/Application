{
 "cells": [
  {
   "cell_type": "markdown",
   "id": "cc5e6bd8-b141-4394-b21e-95b32bdfc368",
   "metadata": {},
   "source": [
    "# 🍁 C1 & C3 Capital"
   ]
  },
  {
   "cell_type": "markdown",
   "id": "d1395b00-780e-4ee4-b18d-7ac9bfa6897f",
   "metadata": {},
   "source": [
    "This code below has the goal to quickly attribute the C1 capital factor to every security in CLL / CLA's portfolios.  \n",
    "Then we will compute C3 capital."
   ]
  },
  {
   "cell_type": "markdown",
   "id": "5a211602-4645-4620-bcaa-f35e53b88c62",
   "metadata": {},
   "source": [
    "For C1 Capital our work is based on OSFI regulation.  \n",
    "You can access the regulations using this website: https://www.osfi-bsif.gc.ca/sites/default/files/2023-11/licat24.pdf "
   ]
  },
  {
   "cell_type": "markdown",
   "id": "cf31ec16-a502-4094-bcac-58604433843b",
   "metadata": {},
   "source": [
    "## 👩‍💻 Import the processed file - Securities tab"
   ]
  },
  {
   "cell_type": "markdown",
   "id": "bf89bff6-4e53-4b54-8d42-92db09794939",
   "metadata": {},
   "source": [
    "The goal here is to import the Security dataframe from the Securities file"
   ]
  },
  {
   "cell_type": "code",
   "execution_count": 107,
   "id": "18eddf20-e980-44a1-bb2c-5f5d948b9f7e",
   "metadata": {},
   "outputs": [],
   "source": [
    "import pandas as pd\n",
    "\n",
    "# Define the path to your file\n",
    "file_path = r'C:/Users/bernier/Development/Ogma/CLL/Securities/20231231_securities.xlsx'\n",
    "\n",
    "# Load the \"Securities\" sheet without specifying the header\n",
    "temp_df = pd.read_excel(file_path, sheet_name='Securities', header=None, engine='openpyxl')\n",
    "\n",
    "# Find the first non-empty row in column A\n",
    "first_non_empty_row = temp_df[0].first_valid_index()\n",
    "\n",
    "# Load the \"Securities\" sheet again using the first non-empty row as the header\n",
    "ProcessedSecuritiesDF = pd.read_excel(file_path, sheet_name='Securities', header=first_non_empty_row, engine='openpyxl')\n",
    "\n",
    "# Display the first few rows of the DataFrame\n",
    "#ProcessedSecuritiesDF.head()"
   ]
  },
  {
   "cell_type": "markdown",
   "id": "6f24f0b2-7c22-48a3-9717-324809ed6d54",
   "metadata": {},
   "source": [
    "## 💸 Import the processed file - CashFlows tab"
   ]
  },
  {
   "cell_type": "markdown",
   "id": "c1e21750-b33f-4edf-93fa-dfcaf7e905f8",
   "metadata": {},
   "source": [
    "The goal here is to import the CashFlows dataframe from the Securities file"
   ]
  },
  {
   "cell_type": "code",
   "execution_count": 32,
   "id": "7600b949-7dff-48f6-a4fa-806c3b774ecc",
   "metadata": {},
   "outputs": [],
   "source": [
    "import pandas as pd\n",
    "\n",
    "# Define the path to your file\n",
    "file_path = r'C:/Users/bernier/Development/Ogma/CLL/Securities/20231231_securities.xlsx'\n",
    "\n",
    "# Load the \"Securities\" sheet without specifying the header\n",
    "temp_df = pd.read_excel(file_path, sheet_name='CashFlows', header=None, engine='openpyxl')\n",
    "\n",
    "# Find the first non-empty row in column A\n",
    "first_period_row = temp_df[temp_df[0] == \"Period\"].index[0]\n",
    "\n",
    "# Load the \"Securities\" sheet again using the first non-empty row as the header\n",
    "ProcessedCFsDF = pd.read_excel(file_path, sheet_name='CashFlows', header=first_period_row, engine='openpyxl')\n",
    "\n",
    "# Display the first few rows of the DataFrame\n",
    "#ProcessedCFsDF.head()"
   ]
  },
  {
   "cell_type": "markdown",
   "id": "326fb9ad-f6f5-4869-8c23-711eae176578",
   "metadata": {},
   "source": [
    "## 📌 C1 factor"
   ]
  },
  {
   "cell_type": "markdown",
   "id": "a4954093-18b5-4068-84aa-db82dd35cc2a",
   "metadata": {},
   "source": [
    "We import the Canadian OSFI C1 factor Credit Risk Factors by Rating and Effective Maturity (in years)  \n",
    "It will built has a 3-columns table. The first one would be the Rating, the second is the effective maturity and the third will be factor"
   ]
  },
  {
   "cell_type": "code",
   "execution_count": 108,
   "id": "375aabbf-f7d3-4ecf-aa33-fb79042bba8d",
   "metadata": {},
   "outputs": [],
   "source": [
    "# Define the path to your file\n",
    "file_path = r'C:/Users/bernier/Development/C1Factors.xlsx'\n",
    "\n",
    "# Load the \"Securities\" sheet again using the first non-empty row as the header\n",
    "C1FactorsDF = pd.read_excel(file_path, engine='openpyxl')\n",
    "\n",
    "# Display the first few rows of the DataFrame\n",
    "#C1FactorsDF.head()"
   ]
  },
  {
   "cell_type": "markdown",
   "id": "0437fe5f-1c71-48bd-ac9d-91619d5f1bbe",
   "metadata": {},
   "source": [
    "## ⚙️ C1 asset category attribution process  "
   ]
  },
  {
   "cell_type": "markdown",
   "id": "2e1f7346-2837-4d7e-a750-8a7dae262796",
   "metadata": {},
   "source": [
    "The C1 attribution process determines how each security should be treated.  \n",
    "It has 8 categories:  \n",
    "- Entities eligible for a 0% factor: see 3.1.4. section of the OSFI regulation  \n",
    "- Mortgages that are guaranteed by Canada Mortgage and Housing Corporation (CMHC): see 3.1.6. section of the OSFI regulation  \n",
    "- Residential mortgage loans: see 3.1.6. section of the OSFI regulation    \n",
    "- Commercial mortgage loans: see 3.1.6. section of the OSFI regulation  \n",
    "- Leases: see 3.1.9. section of the OSFI regulation  \n",
    "- Equity: see section 5.2.1 of the OSFI regulation   \n",
    "- *Property -- to be completed*\n",
    "- Debt: see section 3.1.2 of the OSFI regulation\n",
    "\n",
    "We will numerate them so thet will easen the process"
   ]
  },
  {
   "cell_type": "markdown",
   "id": "78b48305-0b0f-45be-bd62-5e86df97bfc4",
   "metadata": {},
   "source": [
    "### 🧩 C1 Categories"
   ]
  },
  {
   "cell_type": "code",
   "execution_count": 118,
   "id": "46044da3-54b2-4a4d-acc6-ac459a178339",
   "metadata": {},
   "outputs": [],
   "source": [
    "\n",
    "credit_group_0 = [\n",
    "    \"Canada\",\n",
    "    \"Province of Quebec\",\n",
    "    \"International Bank For Reconstruction & Development\",\n",
    "    \"European Stability Mechanism\",\n",
    "    \"European Investment Bank\",\n",
    "    \"Council Of Europe Development\",\n",
    "    \"The European Bank for Reconstruction and Development\",\n",
    "    \"States of Jersey\",\n",
    "    \"Republic of Poland\",\n",
    "    \"Republic of France\",\n",
    "    \"Republic of Finland\",\n",
    "    \"Norway (Kingdom of)\",\n",
    "    \"Nordic Investment Bank\",\n",
    "    \"Kingdom of the Netherlands\",\n",
    "    \"Kingdom of Sweden\",\n",
    "    \"Kingdom Of Spain\",\n",
    "    \"Kingdom of Norway\",\n",
    "    \"Kingdom of Denmark\",\n",
    "    \"Kingdom of Belgium\",\n",
    "    \"Japan\",\n",
    "    \"Isle of Man\",\n",
    "    \"Inter-American Development Bank\",\n",
    "    \"Government of United Kingdom\",\n",
    "    \"Germany (Federal Republic of)\",\n",
    "    \"Federal Republic of Germany\",\n",
    "    \"Emirate of Dubai United Arab Emirates\",\n",
    "    \"Asian Development Bank\",\n",
    "    \"African Development Bank\",\n",
    "]\n",
    "\n",
    "calm_asset_type_Bonds = [\n",
    "    \"Bond - IL\", \n",
    "    \"Bond - NL\", \n",
    "    \"FRN\",\n",
    "]\n",
    "\n",
    "calm_asset_type_Mortgages = [\n",
    "    \"Mortgage - NL\",\n",
    "    \"Mortgage - IL\",\n",
    "]\n",
    "\n",
    "calm_asset_type_ERM = [\n",
    "    \"ERM\",\n",
    "]\n",
    "\n",
    "calm_asset_type_Leases = [\n",
    "    \"Fin Lease - NL\",\n",
    "    \"Fin Arrangement - IL\",\n",
    "]\n",
    "\n",
    "calm_asset_type_Property = [\n",
    "    \"Property - NL\",\n",
    "    \"Property - IL\",\n",
    "    \"Property - IL Backing NL\",\n",
    "]\n",
    "\n",
    "calm_asset_type_SWAPS = [\n",
    "    \"Inflation SWAP\",\n",
    "]\n",
    "\n",
    "# Function to assign C1AssetCategory based on the mappings\n",
    "def assign_c1_asset_category(row):\n",
    "    if row['CreditGroupName'] in credit_group_0:\n",
    "        return 0\n",
    "    elif row['CALMAssetType'] in calm_asset_type_Bonds:\n",
    "        return 1\n",
    "    elif row['CALMAssetType'] in calm_asset_type_Mortgages:\n",
    "        return 2\n",
    "    elif row['CALMAssetType'] in calm_asset_type_ERM:\n",
    "        return 3\n",
    "    elif row['CALMAssetType'] in calm_asset_type_Leases:\n",
    "        return 4\n",
    "    elif row['CALMAssetType'] in calm_asset_type_Property:\n",
    "        return 5\n",
    "    elif row['CALMAssetType'] in calm_asset_type_SWAPS:\n",
    "        return 6\n",
    "    else:\n",
    "        return None\n",
    "        \n",
    "# Apply the function to create the new column\n",
    "ProcessedSecuritiesDF['C1AssetCategory'] = ProcessedSecuritiesDF.apply(assign_c1_asset_category, axis=1)\n",
    "\n",
    "# Set display option to show all columns\n",
    "pd.set_option('display.max_columns', None)\n",
    "\n",
    "# Display the first few rows of the updated DataFrame\n",
    "#print(ProcessedSecuritiesDF.head(50))"
   ]
  },
  {
   "cell_type": "markdown",
   "id": "993561df-f047-4234-b27a-c39bfa4688b7",
   "metadata": {},
   "source": [
    "### 🎯 Calculate C1 factor"
   ]
  },
  {
   "cell_type": "code",
   "execution_count": 126,
   "id": "bb8ac370-ad59-45fe-baf2-a60b5a0fd775",
   "metadata": {},
   "outputs": [],
   "source": [
    "# Normalize the Rating column\n",
    "rating_mapping = {\n",
    "    \"AA+\": \"AA\",\n",
    "    \"AA-\": \"AA\",\n",
    "    \"A+\": \"A\",\n",
    "    \"A-\": \"A\",\n",
    "    \"BBB+\": \"BBB\",\n",
    "    \"BBB-\": \"BBB\",\n",
    "    \"BB+\": \"BB\",\n",
    "    \"BB-\": \"BB\",\n",
    "    \"B+\": \"B\",\n",
    "    \"B-\": \"B\",\n",
    "    \"DDD\": \"Below_B\",\n",
    "    \"CCC\": \"Below_B\",\n",
    "    \"CCC-\": \"Below_B\",\n",
    "}\n",
    "ProcessedSecuritiesDF[\"NormalizedRating\"] = ProcessedSecuritiesDF[\"Rating\"].replace(rating_mapping)\n",
    "#print(\"First few rows after rating normalization:\")\n",
    "\n",
    "#print(C1FactorsDF[['EffectiveMaturity', 'Rating']].head())\n",
    "# Round the ModDuration column\n",
    "\n",
    "ProcessedSecuritiesDF[\"RoundedModDuration\"] = ProcessedSecuritiesDF[\"ModDuration\"].round().astype(int)\n",
    "#print(ProcessedSecuritiesDF[['Rating', 'NormalizedRating','ModDuration','RoundedModDuration']].head())\n",
    "# Filter rows with valid ratings\n",
    "valid_ratings = C1FactorsDF['Rating'].unique()\n",
    "ProcessedSecuritiesDF = ProcessedSecuritiesDF[ProcessedSecuritiesDF['NormalizedRating'].isin(valid_ratings)]\n",
    "\n",
    "# Debugging: Check unique values and data types before merging\n",
    "# FOR TESTING data type need  to be the same - Can be deleted -\n",
    "#print(\"Unique values in ProcessedSecuritiesDF['NormalizedRating']:\", ProcessedSecuritiesDF['NormalizedRating'].unique())\n",
    "#print(\"Unique values in ProcessedSecuritiesDF['RoundedModDuration']:\", ProcessedSecuritiesDF['RoundedModDuration'].unique())\n",
    "#print(\"Unique values in C1FactorsDF['Rating']:\", C1FactorsDF['Rating'].unique())\n",
    "#print(\"Unique values in C1FactorsDF['EffectiveMaturity']:\", C1FactorsDF['EffectiveMaturity'].unique())\n",
    "\n",
    "#print(\"Data types of merging columns:\")\n",
    "#print(\"ProcessedSecuritiesDF['NormalizedRating']:\", ProcessedSecuritiesDF['NormalizedRating'].dtype)\n",
    "#print(\"ProcessedSecuritiesDF['RoundedModDuration']:\", ProcessedSecuritiesDF['RoundedModDuration'].dtype)\n",
    "#print(\"C1FactorsDF['Rating']:\", C1FactorsDF['Rating'].dtype)\n",
    "#print(\"C1FactorsDF['EffectiveMaturity']:\", C1FactorsDF['EffectiveMaturity'].dtype)\n",
    "\n",
    "# Ensure the data types of merging columns match\n",
    "ProcessedSecuritiesDF['NormalizedRating'] = ProcessedSecuritiesDF['NormalizedRating'].astype(str)\n",
    "ProcessedSecuritiesDF['RoundedModDuration'] = ProcessedSecuritiesDF['RoundedModDuration'].astype(int)\n",
    "C1FactorsDF['Rating'] = C1FactorsDF['Rating'].astype(str)\n",
    "C1FactorsDF['EffectiveMaturity'] = C1FactorsDF['EffectiveMaturity'].astype(int)\n",
    "\n",
    "# Rename conflicting columns in ProcessedSecuritiesDF before merging\n",
    "conflicting_columns = ['Rating', 'EffectiveMaturity', 'C1Factor']\n",
    "ProcessedSecuritiesDF.rename(columns={col: f\"{col}_sec\" for col in conflicting_columns}, inplace=True)\n",
    "\n",
    "# Merge ProcessedSecuritiesDF with C1FactorsDF on NormalizedRating and RoundedModDuration\n",
    "ProcessedSecuritiesDF = pd.merge(\n",
    "    ProcessedSecuritiesDF,\n",
    "    C1FactorsDF,\n",
    "    left_on=[\"NormalizedRating\", \"RoundedModDuration\"],\n",
    "    right_on=[\"Rating\", \"EffectiveMaturity\"],\n",
    "    how=\"left\",\n",
    "    suffixes=('_sec', '_factor')  # Adding suffixes to avoid column name conflicts\n",
    ")\n",
    "\n",
    "\n",
    "# Function to assign C1AssetCategory based on the mappings\n",
    "def assign_c1_factor(row):\n",
    "    if row[\"C1AssetCategory\"] == 0:\n",
    "        return 0\n",
    "    elif row[\"C1AssetCategory\"] == 1:\n",
    "        return row['C1Factor']\n",
    "    elif row[\"C1AssetCategory\"] == 2:\n",
    "        return 0.06\n",
    "    elif row[\"C1AssetCategory\"] == 3:\n",
    "        return 0.06\n",
    "    elif row[\"C1AssetCategory\"] == 4:\n",
    "        return 0.06\n",
    "    elif row[\"C1AssetCategory\"] == 5:\n",
    "        return 0.3\n",
    "    elif row[\"C1AssetCategory\"] == 6:\n",
    "        return 0\n",
    "    else:\n",
    "        return None\n",
    "\n",
    "\n",
    "# Apply the function to create the new column\n",
    "ProcessedSecuritiesDF[\"C1\"] = ProcessedSecuritiesDF.apply(assign_c1_factor, axis=1)\n",
    "\n",
    "# Set display option to show all columns\n",
    "pd.set_option(\"display.max_columns\", None)\n",
    "\n",
    "# Display the first few rows of the updated DataFrame\n",
    "#print(ProcessedSecuritiesDF.head(50))"
   ]
  },
  {
   "cell_type": "code",
   "execution_count": null,
   "id": "5575f295-96d8-4a62-a516-d7e2fee4f707",
   "metadata": {},
   "outputs": [],
   "source": []
  }
 ],
 "metadata": {
  "kernelspec": {
   "display_name": "Python 3 (ipykernel)",
   "language": "python",
   "name": "python3"
  },
  "language_info": {
   "codemirror_mode": {
    "name": "ipython",
    "version": 3
   },
   "file_extension": ".py",
   "mimetype": "text/x-python",
   "name": "python",
   "nbconvert_exporter": "python",
   "pygments_lexer": "ipython3",
   "version": "3.10.11"
  }
 },
 "nbformat": 4,
 "nbformat_minor": 5
}
