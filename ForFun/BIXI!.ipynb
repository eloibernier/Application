{
 "cells": [
  {
   "cell_type": "markdown",
   "id": "7338bd07-0441-47c6-aeb9-da63c813615c",
   "metadata": {},
   "source": [
    "# 👩🏻‍💻🏫 Bixi! 🏫👩🏻‍💻"
   ]
  },
  {
   "cell_type": "markdown",
   "id": "c2c86bf1",
   "metadata": {},
   "source": [
    "**Note to the reader:** This analysis explores my city's bikeshare service using Kaggle's datasets. I thought it would be interesting to see what insights we can uncover about bike riders from this data. As a frequent user of the bikeshare and a fan of cycling (I have even biked across half of Europe), I wanted to bring my passion into this project. Hope you enjoy the ride!"
   ]
  },
  {
   "cell_type": "markdown",
   "id": "4fec8a54-8a82-487e-8cdb-7e715940f6a9",
   "metadata": {},
   "source": [
    "### 📥🚲 Import packages and Bixi Data 🚲📥"
   ]
  },
  {
   "cell_type": "code",
   "execution_count": null,
   "id": "c14d6747-0571-4401-baab-50fee1f2477e",
   "metadata": {},
   "outputs": [],
   "source": [
    "!pip install pandas numpy matplotlib geopy seaborn\n",
    "import pandas as pd\n",
    "import numpy as np \n",
    "import matplotlib.pyplot as plt\n",
    "from geopy.distance import geodesic\n",
    "import seaborn as sns\n",
    "\n",
    "# I downloaded all necessary CSVs. These CSVs are from Kaggle.\n",
    "df_2017_Rides = pd.read_csv('C:/Users/AzureVirtualDesktopU/Documents/CodeSample/OD_2017.csv')\n",
    "df_Stations = pd.read_csv('C:/Users/AzureVirtualDesktopU/Documents/CodeSample/Stations_2017_Data.csv')"
   ]
  },
  {
   "cell_type": "markdown",
   "id": "6ddc9dd9",
   "metadata": {},
   "source": [
    "### 🔗🧹 Cleaning, merging, and manipulations 🧹🔗"
   ]
  },
  {
   "cell_type": "code",
   "execution_count": null,
   "id": "c0c55a0e",
   "metadata": {},
   "outputs": [],
   "source": [
    "# Remove strings and switch data type for some columns, making sure the analysis is possible\n",
    "df_2017_Rides = df_2017_Rides[df_2017_Rides['end_station_code'] != \"Tabletop (RMA)\"]\n",
    "df_2017_Rides['end_station_code'] = df_2017_Rides['end_station_code'].astype('int64')\n",
    "df_Stations['code'] = df_Stations['code'].astype('int64')\n",
    "df_Stations = df_Stations[df_Stations['elevation'] != \"e\"]\n",
    "df_Stations['elevation'] = pd.to_numeric(df_Stations['elevation'])\n",
    "\n",
    "# Merge the two data sets\n",
    "df_2017_Rides = pd.merge(df_2017_Rides, df_Stations[['latitude','longitude','code','elevation']],\n",
    "                          left_on = 'start_station_code', right_on = 'code', how = 'left')\n",
    "df_2017_Rides.rename(columns = {'latitude' : 'StartLatitude','longitude' : 'StartLongitude', \n",
    "                                'elevation' : 'StartElevation'}, inplace = True)\n",
    "df_2017_Rides = df_2017_Rides.drop('code', axis=1)\n",
    "\n",
    "df_2017_Rides_Merge = pd.merge(df_2017_Rides, df_Stations[['latitude','longitude','code','elevation']], \n",
    "                               left_on = 'end_station_code', right_on = 'code', how = 'left')\n",
    "df_2017_Rides_Merge.rename(columns = {'latitude' : 'EndLatitude','longitude' : 'EndLongitude',\n",
    "                                       'elevation' : 'EndElevation'}, inplace = True)\n",
    "\n",
    "# Basic manipulations\n",
    "df_2017_Rides_Merge['VariationElevation'] = \n",
    "df_2017_Rides_Merge.apply(lambda x: x['EndElevation'] - x['StartElevation'], axis =1)\n",
    "df_2017_Rides_Merge['DurationMinutes'] = df_2017_Rides_Merge['duration_sec']/60\n",
    "df_2017_Rides_Merge = df_2017_Rides_Merge.dropna(subset=['VariationElevation'])\n"
   ]
  },
  {
   "cell_type": "markdown",
   "id": "86b8bf1e",
   "metadata": {},
   "source": [
    "### 🗺️🏁⏱️ Calculate Distance & Speed ⏱️🏁🗺️"
   ]
  },
  {
   "cell_type": "code",
   "execution_count": null,
   "id": "60961f1f-5675-4cdf-ad6a-a13dd187b9e9",
   "metadata": {},
   "outputs": [],
   "source": [
    "# I set station 6046 as the closest station to downtown. (Verify on Google Maps)\n",
    "StationDowntown = df_Stations[df_Stations['code'] == 6046].iloc[0]\n",
    "EndCoordsDowntown = (station_Downtown['latitude'], station_Downtown['longitude'])\n",
    "DowntownElevation = StationDowntown['elevation']\n",
    "\n",
    "# Define a function to calculate the distance between the two stations of a ride, \n",
    "# accounting for the elevation difference. Apply this result to the dataset. Also,\n",
    "# calculate the distance from the starting station to the downtown station.\n",
    "def calculate_distance(row):\n",
    "    StartCoords = (row['StartLatitude'], row['StartLongitude'])\n",
    "    EndCoordsOther = (row['EndLatitude'], row['EndLongitude'])\n",
    "    HorizontalDistance = geodesic(StartCoords, EndCoordsOther).kilometers\n",
    "    VerticalDistance = row['VariationElevation']/1000\n",
    "    PythagoreDistance = np.sqrt(HorizontalDistance**2 + VerticalDistance**2)\n",
    "    HorizontalDistanceDowntown = geodesic(StartCoords, EndCoordsDowntown).kilometers\n",
    "    VerticalDistanceDowntown = (row['VariationElevation'] - DowntownElevation)/1000\n",
    "    PythagoreDistanceDowntown = np.sqrt(HorizontalDistanceDowntown**2 + VerticalDistanceDowntown**2)\n",
    "\n",
    "    return pd.Series([PythagoreDistance, PythagoreDistanceDowntown])\n",
    "\n",
    "df_2017_Rides_Merge[['DistanceKM', 'DistanceToDowntown']] = \n",
    "df_2017_Rides_Merge.apply(calculate_distance, axis=1)\n",
    "\n",
    "# Calculate the average ride speed. This will help provide valuable insights!\n",
    "def speed(row):\n",
    "    distance = row['DistanceKM']\n",
    "    time_in_sec = row['duration_sec']\n",
    "    return (distance/(time_in_sec))*3600\n",
    "\n",
    "df_2017_Rides_Merge['RideSpeed'] = df_2017_Rides_Merge.apply(speed, axis=1)"
   ]
  },
  {
   "cell_type": "markdown",
   "id": "28ed1e34",
   "metadata": {},
   "source": [
    "### 📊📈 Data illustration and insights 📈📊"
   ]
  },
  {
   "cell_type": "code",
   "execution_count": null,
   "id": "6aa1f982",
   "metadata": {},
   "outputs": [],
   "source": [
    "# To gain more insights into how the distance from downtown affects riders, let's divide\n",
    "# the distance into 20 equal segments and calculate the average distance traveled and the average\n",
    "# speed. Show the results in a combined bar and line graph.\n",
    "\n",
    "df_2017_Rides_Merge['DistanceRange'] = pd.cut(df_2017_Rides_Merge['DistanceToDowntown'], bins=20)\n",
    "AvgDistanceSlice = df_2017_Rides_Merge.groupby('DistanceRange')['DistanceKM'].mean().reset_index()\n",
    "AvgSpeedSlice = df_2017_Rides_Merge.groupby('DistanceRange')['RideSpeed'].mean().reset_index()\n",
    "\n",
    "AvgDistanceSlice['RangeMiddle'] = AvgDistanceSlice['DistanceRange'].apply(lambda x: x.mid)\n",
    "AvgSpeedSlice['RangeMiddle'] = AvgSpeedSlice['DistanceRange'].apply(lambda x: x.mid)\n",
    "\n",
    "plt.bar(AvgDistanceSlice['RangeMiddle'], AvgDistanceSlice['DistanceKM'], \n",
    "        width=0.6, label='Average Ride Distance')\n",
    "plt.plot(AvgSpeedSlice['RangeMiddle'], AvgSpeedSlice['RideSpeed'], color='red', label='Avg. Speed')\n",
    "plt.title('Average Ride Distance and Average Speed vs. Distance from Downtown')\n",
    "plt.ylabel('Average Ride Distance (km) / Average Speed (km/h)')\n",
    "plt.xlabel('Distance from Downtown (km)')\n",
    "plt.legend()\n",
    "plt.show()"
   ]
  }
 ],
 "metadata": {
  "kernelspec": {
   "display_name": "Python 3",
   "language": "python",
   "name": "python3"
  },
  "language_info": {
   "codemirror_mode": {
    "name": "ipython",
    "version": 3
   },
   "file_extension": ".py",
   "mimetype": "text/x-python",
   "name": "python",
   "nbconvert_exporter": "python",
   "pygments_lexer": "ipython3",
   "version": "3.10.11"
  }
 },
 "nbformat": 4,
 "nbformat_minor": 5
}
